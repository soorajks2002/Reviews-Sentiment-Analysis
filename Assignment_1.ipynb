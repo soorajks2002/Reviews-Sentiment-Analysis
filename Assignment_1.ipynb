{
  "cells": [
    {
      "attachments": {},
      "cell_type": "markdown",
      "metadata": {
        "id": "ME0Hj5orQxhU"
      },
      "source": [
        "# 1. Data Cleaning and EDA\n",
        "\n",
        "Data = https://www.kaggle.com/datasets/andrewmvd/trip-advisor-hotel-reviews"
      ]
    },
    {
      "cell_type": "code",
      "execution_count": null,
      "metadata": {
        "_cell_guid": "b1076dfc-b9ad-4769-8c92-a6c4dae69d19",
        "_uuid": "8f2839f25d086af736a60e9eeb907d3b93b6e0e5",
        "execution": {
          "iopub.execute_input": "2022-12-24T07:39:59.803187Z",
          "iopub.status.busy": "2022-12-24T07:39:59.801940Z",
          "iopub.status.idle": "2022-12-24T07:39:59.861169Z",
          "shell.execute_reply": "2022-12-24T07:39:59.860101Z",
          "shell.execute_reply.started": "2022-12-24T07:39:59.803145Z"
        },
        "id": "raUUOMYMQxhW",
        "outputId": "8f3424b9-175e-4f79-863a-dea3eeccd7c8",
        "trusted": true
      },
      "outputs": [
        {
          "name": "stdout",
          "output_type": "stream",
          "text": [
            "/kaggle/input/trip-advisor-hotel-reviews/tripadvisor_hotel_reviews.csv\n"
          ]
        }
      ],
      "source": [
        "import numpy as np \n",
        "import pandas as pd \n",
        "\n",
        "import os\n",
        "for dirname, _, filenames in os.walk('/kaggle/input'):\n",
        "    for filename in filenames:\n",
        "        print(os.path.join(dirname, filename))"
      ]
    },
    {
      "cell_type": "code",
      "execution_count": null,
      "metadata": {
        "execution": {
          "iopub.execute_input": "2022-12-24T08:10:04.221328Z",
          "iopub.status.busy": "2022-12-24T08:10:04.220496Z",
          "iopub.status.idle": "2022-12-24T08:10:04.653568Z",
          "shell.execute_reply": "2022-12-24T08:10:04.652575Z",
          "shell.execute_reply.started": "2022-12-24T08:10:04.221293Z"
        },
        "id": "CdnXsC9LQxhX",
        "trusted": true
      },
      "outputs": [],
      "source": [
        "df = pd.read_csv(\"/kaggle/input/trip-advisor-hotel-reviews/tripadvisor_hotel_reviews.csv\")"
      ]
    },
    {
      "cell_type": "code",
      "execution_count": null,
      "metadata": {
        "execution": {
          "iopub.execute_input": "2022-12-24T08:10:04.655422Z",
          "iopub.status.busy": "2022-12-24T08:10:04.655062Z",
          "iopub.status.idle": "2022-12-24T08:10:04.677430Z",
          "shell.execute_reply": "2022-12-24T08:10:04.676385Z",
          "shell.execute_reply.started": "2022-12-24T08:10:04.655385Z"
        },
        "id": "Q4Lb4aCiQxhX",
        "outputId": "aabc8071-3ffb-4a71-994f-98e37a2275b0",
        "trusted": true
      },
      "outputs": [
        {
          "data": {
            "text/html": [
              "<div>\n",
              "<style scoped>\n",
              "    .dataframe tbody tr th:only-of-type {\n",
              "        vertical-align: middle;\n",
              "    }\n",
              "\n",
              "    .dataframe tbody tr th {\n",
              "        vertical-align: top;\n",
              "    }\n",
              "\n",
              "    .dataframe thead th {\n",
              "        text-align: right;\n",
              "    }\n",
              "</style>\n",
              "<table border=\"1\" class=\"dataframe\">\n",
              "  <thead>\n",
              "    <tr style=\"text-align: right;\">\n",
              "      <th></th>\n",
              "      <th>Review</th>\n",
              "      <th>Rating</th>\n",
              "    </tr>\n",
              "  </thead>\n",
              "  <tbody>\n",
              "    <tr>\n",
              "      <th>0</th>\n",
              "      <td>nice hotel expensive parking got good deal sta...</td>\n",
              "      <td>4</td>\n",
              "    </tr>\n",
              "    <tr>\n",
              "      <th>1</th>\n",
              "      <td>ok nothing special charge diamond member hilto...</td>\n",
              "      <td>2</td>\n",
              "    </tr>\n",
              "    <tr>\n",
              "      <th>2</th>\n",
              "      <td>nice rooms not 4* experience hotel monaco seat...</td>\n",
              "      <td>3</td>\n",
              "    </tr>\n",
              "    <tr>\n",
              "      <th>3</th>\n",
              "      <td>unique, great stay, wonderful time hotel monac...</td>\n",
              "      <td>5</td>\n",
              "    </tr>\n",
              "    <tr>\n",
              "      <th>4</th>\n",
              "      <td>great stay great stay, went seahawk game aweso...</td>\n",
              "      <td>5</td>\n",
              "    </tr>\n",
              "    <tr>\n",
              "      <th>...</th>\n",
              "      <td>...</td>\n",
              "      <td>...</td>\n",
              "    </tr>\n",
              "    <tr>\n",
              "      <th>20486</th>\n",
              "      <td>best kept secret 3rd time staying charm, not 5...</td>\n",
              "      <td>5</td>\n",
              "    </tr>\n",
              "    <tr>\n",
              "      <th>20487</th>\n",
              "      <td>great location price view hotel great quick pl...</td>\n",
              "      <td>4</td>\n",
              "    </tr>\n",
              "    <tr>\n",
              "      <th>20488</th>\n",
              "      <td>ok just looks nice modern outside, desk staff ...</td>\n",
              "      <td>2</td>\n",
              "    </tr>\n",
              "    <tr>\n",
              "      <th>20489</th>\n",
              "      <td>hotel theft ruined vacation hotel opened sept ...</td>\n",
              "      <td>1</td>\n",
              "    </tr>\n",
              "    <tr>\n",
              "      <th>20490</th>\n",
              "      <td>people talking, ca n't believe excellent ratin...</td>\n",
              "      <td>2</td>\n",
              "    </tr>\n",
              "  </tbody>\n",
              "</table>\n",
              "<p>20491 rows × 2 columns</p>\n",
              "</div>"
            ],
            "text/plain": [
              "                                                  Review  Rating\n",
              "0      nice hotel expensive parking got good deal sta...       4\n",
              "1      ok nothing special charge diamond member hilto...       2\n",
              "2      nice rooms not 4* experience hotel monaco seat...       3\n",
              "3      unique, great stay, wonderful time hotel monac...       5\n",
              "4      great stay great stay, went seahawk game aweso...       5\n",
              "...                                                  ...     ...\n",
              "20486  best kept secret 3rd time staying charm, not 5...       5\n",
              "20487  great location price view hotel great quick pl...       4\n",
              "20488  ok just looks nice modern outside, desk staff ...       2\n",
              "20489  hotel theft ruined vacation hotel opened sept ...       1\n",
              "20490  people talking, ca n't believe excellent ratin...       2\n",
              "\n",
              "[20491 rows x 2 columns]"
            ]
          },
          "execution_count": 36,
          "metadata": {},
          "output_type": "execute_result"
        }
      ],
      "source": [
        "df"
      ]
    },
    {
      "cell_type": "code",
      "execution_count": null,
      "metadata": {
        "execution": {
          "iopub.execute_input": "2022-12-24T07:40:01.095873Z",
          "iopub.status.busy": "2022-12-24T07:40:01.095513Z",
          "iopub.status.idle": "2022-12-24T07:40:01.105413Z",
          "shell.execute_reply": "2022-12-24T07:40:01.104506Z",
          "shell.execute_reply.started": "2022-12-24T07:40:01.095843Z"
        },
        "id": "vA7vDOCPQxhX",
        "trusted": true
      },
      "outputs": [],
      "source": [
        "text = df['Review']\n",
        "tag = df.Rating.replace(to_replace=[1,2,3,4,5], value=[0,0,0,1,1])"
      ]
    },
    {
      "cell_type": "code",
      "execution_count": null,
      "metadata": {
        "execution": {
          "iopub.execute_input": "2022-12-24T08:10:04.679511Z",
          "iopub.status.busy": "2022-12-24T08:10:04.679137Z",
          "iopub.status.idle": "2022-12-24T08:10:04.689114Z",
          "shell.execute_reply": "2022-12-24T08:10:04.688095Z",
          "shell.execute_reply.started": "2022-12-24T08:10:04.679476Z"
        },
        "id": "DvjMSA5xQxhY",
        "outputId": "7d49844c-931c-4e96-eefb-4582fece2198",
        "trusted": true
      },
      "outputs": [
        {
          "data": {
            "text/plain": [
              "0        nice hotel expensive parking got good deal sta...\n",
              "1        ok nothing special charge diamond member hilto...\n",
              "2        nice rooms not 4* experience hotel monaco seat...\n",
              "3        unique, great stay, wonderful time hotel monac...\n",
              "4        great stay great stay, went seahawk game aweso...\n",
              "                               ...                        \n",
              "20486    best kept secret 3rd time staying charm, not 5...\n",
              "20487    great location price view hotel great quick pl...\n",
              "20488    ok just looks nice modern outside, desk staff ...\n",
              "20489    hotel theft ruined vacation hotel opened sept ...\n",
              "20490    people talking, ca n't believe excellent ratin...\n",
              "Name: Review, Length: 20491, dtype: object"
            ]
          },
          "execution_count": 37,
          "metadata": {},
          "output_type": "execute_result"
        }
      ],
      "source": [
        "text"
      ]
    },
    {
      "cell_type": "code",
      "execution_count": null,
      "metadata": {
        "execution": {
          "iopub.execute_input": "2022-12-24T08:10:23.913886Z",
          "iopub.status.busy": "2022-12-24T08:10:23.913536Z",
          "iopub.status.idle": "2022-12-24T08:10:23.924531Z",
          "shell.execute_reply": "2022-12-24T08:10:23.923462Z",
          "shell.execute_reply.started": "2022-12-24T08:10:23.913855Z"
        },
        "id": "MsJrqBjjQxhY",
        "outputId": "84c71a92-0b32-4b66-9d05-9e81d42b4c07",
        "trusted": true
      },
      "outputs": [
        {
          "data": {
            "text/plain": [
              "0        1\n",
              "1        0\n",
              "2        0\n",
              "3        1\n",
              "4        1\n",
              "        ..\n",
              "20486    1\n",
              "20487    1\n",
              "20488    0\n",
              "20489    0\n",
              "20490    0\n",
              "Name: Rating, Length: 20491, dtype: int64"
            ]
          },
          "execution_count": 38,
          "metadata": {},
          "output_type": "execute_result"
        }
      ],
      "source": [
        "tag"
      ]
    },
    {
      "cell_type": "code",
      "execution_count": null,
      "metadata": {
        "execution": {
          "iopub.execute_input": "2022-12-24T07:40:02.908525Z",
          "iopub.status.busy": "2022-12-24T07:40:02.907935Z",
          "iopub.status.idle": "2022-12-24T07:40:02.914160Z",
          "shell.execute_reply": "2022-12-24T07:40:02.913100Z",
          "shell.execute_reply.started": "2022-12-24T07:40:02.908484Z"
        },
        "id": "30ImAj_rQxhY",
        "trusted": true
      },
      "outputs": [],
      "source": [
        "del(df)"
      ]
    },
    {
      "cell_type": "code",
      "execution_count": 1,
      "metadata": {
        "colab": {
          "base_uri": "https://localhost:8080/"
        },
        "id": "rUpCSG1iQxhY",
        "outputId": "22cb0238-fa98-477a-e1b9-1f17d853a8b9",
        "trusted": true
      },
      "outputs": [
        {
          "name": "stdout",
          "output_type": "stream",
          "text": [
            "\u001b[K     |████████████████████████████████| 4.9 MB 25.0 MB/s \n",
            "\u001b[K     |████████████████████████████████| 498.0 MB 9.1 kB/s \n",
            "\u001b[K     |████████████████████████████████| 1.4 MB 51.7 MB/s \n",
            "\u001b[K     |████████████████████████████████| 462 kB 48.0 MB/s \n",
            "\u001b[K     |████████████████████████████████| 5.8 MB 50.2 MB/s \n",
            "\u001b[?25h"
          ]
        }
      ],
      "source": [
        "!pip install -q -U \"tensorflow-text==2.8.*\""
      ]
    },
    {
      "attachments": {},
      "cell_type": "markdown",
      "metadata": {
        "id": "2xBxmTVlVegT"
      },
      "source": [
        "# 2. Model Creation"
      ]
    },
    {
      "cell_type": "code",
      "execution_count": 2,
      "metadata": {
        "execution": {
          "iopub.execute_input": "2022-12-24T07:38:14.065919Z",
          "iopub.status.busy": "2022-12-24T07:38:14.065495Z",
          "iopub.status.idle": "2022-12-24T07:38:17.792380Z",
          "shell.execute_reply": "2022-12-24T07:38:17.791383Z",
          "shell.execute_reply.started": "2022-12-24T07:38:14.065829Z"
        },
        "id": "wd-KvPcvQxhY",
        "trusted": true
      },
      "outputs": [],
      "source": [
        "import tensorflow as tf\n",
        "import tensorflow_hub as hub\n",
        "import tensorflow_text as text"
      ]
    },
    {
      "attachments": {},
      "cell_type": "markdown",
      "metadata": {
        "id": "JNLn57oKVj8e"
      },
      "source": [
        "## 2.1 Load BERT Preprocessor and Encoder from Tensorflow Hub"
      ]
    },
    {
      "cell_type": "code",
      "execution_count": 3,
      "metadata": {
        "execution": {
          "iopub.execute_input": "2022-12-24T07:38:17.795254Z",
          "iopub.status.busy": "2022-12-24T07:38:17.794572Z",
          "iopub.status.idle": "2022-12-24T07:38:36.293846Z",
          "shell.execute_reply": "2022-12-24T07:38:36.292686Z",
          "shell.execute_reply.started": "2022-12-24T07:38:17.795213Z"
        },
        "id": "Rtc_FSHoQxhY",
        "trusted": true
      },
      "outputs": [],
      "source": [
        "bert_preprocess = hub.KerasLayer(\"https://tfhub.dev/tensorflow/bert_en_uncased_preprocess/3\")\n",
        "bert_encoder = hub.KerasLayer(\"https://tfhub.dev/tensorflow/bert_en_uncased_L-12_H-768_A-12/4\")"
      ]
    },
    {
      "cell_type": "code",
      "execution_count": 4,
      "metadata": {
        "execution": {
          "iopub.execute_input": "2022-12-24T07:38:36.301508Z",
          "iopub.status.busy": "2022-12-24T07:38:36.298961Z",
          "iopub.status.idle": "2022-12-24T07:38:37.126758Z",
          "shell.execute_reply": "2022-12-24T07:38:37.125784Z",
          "shell.execute_reply.started": "2022-12-24T07:38:36.301470Z"
        },
        "id": "ljQSifd_QxhZ",
        "trusted": true
      },
      "outputs": [],
      "source": [
        "text_input = tf.keras.layers.Input(shape=(), dtype=tf.string, name='Text_input')\n",
        "preprocessing_layer = hub.KerasLayer(bert_preprocess, name='BERT_preprocessing')(text_input)\n",
        "encoder = hub.KerasLayer(bert_encoder, name='BERT_encoder')(preprocessing_layer)\n",
        "net = encoder['pooled_output']\n",
        "net = tf.keras.layers.Dropout(0.1)(net)\n",
        "net = tf.keras.layers.Dense(1, activation=\"sigmoid\", name='Classifier')(net)\n",
        "\n",
        "model = tf.keras.Model(text_input, net)\n",
        "model.compile(\n",
        "    loss = tf.keras.losses.BinaryCrossentropy(from_logits=True),\n",
        "    optimizer = \"adam\",\n",
        "    metrics = tf.metrics.BinaryAccuracy(),\n",
        ")"
      ]
    },
    {
      "cell_type": "code",
      "execution_count": 5,
      "metadata": {
        "colab": {
          "base_uri": "https://localhost:8080/",
          "height": 466
        },
        "id": "WgVW1-AiWEu4",
        "outputId": "0a5ac6f1-38fd-4c6c-9635-ab897c76dd0c"
      },
      "outputs": [
        {
          "data": {
            "image/png": "[encoded data removed]",
            "text/plain": [
              "<IPython.core.display.Image object>"
            ]
          },
          "execution_count": 5,
          "metadata": {},
          "output_type": "execute_result"
        }
      ],
      "source": [
        "tf.keras.utils.plot_model(model)"
      ]
    },
    {
      "attachments": {},
      "cell_type": "markdown",
      "metadata": {
        "id": "JMO_WN1RWIkW"
      },
      "source": [
        "# 3. Spliting data into Train and Test"
      ]
    },
    {
      "cell_type": "code",
      "execution_count": null,
      "metadata": {
        "execution": {
          "iopub.execute_input": "2022-12-24T07:38:37.129220Z",
          "iopub.status.busy": "2022-12-24T07:38:37.128910Z",
          "iopub.status.idle": "2022-12-24T07:38:37.179612Z",
          "shell.execute_reply": "2022-12-24T07:38:37.178705Z",
          "shell.execute_reply.started": "2022-12-24T07:38:37.129194Z"
        },
        "id": "w5pStGMRQxhZ",
        "trusted": true
      },
      "outputs": [],
      "source": [
        "from sklearn.model_selection import train_test_split"
      ]
    },
    {
      "cell_type": "code",
      "execution_count": null,
      "metadata": {
        "execution": {
          "iopub.execute_input": "2022-12-24T07:40:07.208812Z",
          "iopub.status.busy": "2022-12-24T07:40:07.208452Z",
          "iopub.status.idle": "2022-12-24T07:40:07.219799Z",
          "shell.execute_reply": "2022-12-24T07:40:07.218674Z",
          "shell.execute_reply.started": "2022-12-24T07:40:07.208782Z"
        },
        "id": "_e9UHR8uQxhZ",
        "trusted": true
      },
      "outputs": [],
      "source": [
        "x, x_test, y, y_test = train_test_split(text, tag, test_size=0.2, random_state=432, shuffle=True)"
      ]
    },
    {
      "attachments": {},
      "cell_type": "markdown",
      "metadata": {
        "id": "OMVW1s-PWQAC"
      },
      "source": [
        "# 4. Model Training \n",
        "    (validation_split=0.3)"
      ]
    },
    {
      "cell_type": "code",
      "execution_count": null,
      "metadata": {
        "execution": {
          "iopub.execute_input": "2022-12-24T08:15:00.207633Z",
          "iopub.status.busy": "2022-12-24T08:15:00.206940Z",
          "iopub.status.idle": "2022-12-24T08:29:22.181282Z",
          "shell.execute_reply": "2022-12-24T08:29:22.180161Z",
          "shell.execute_reply.started": "2022-12-24T08:15:00.207597Z"
        },
        "id": "9QtQCr_IQxhZ",
        "outputId": "a51796b6-50a5-49c3-b011-978b4a284dbc",
        "trusted": true
      },
      "outputs": [
        {
          "name": "stdout",
          "output_type": "stream",
          "text": [
            "Epoch 1/7\n",
            "359/359 [==============================] - 121s 338ms/step - loss: 0.3970 - binary_accuracy: 0.8256 - val_loss: 0.3666 - val_binary_accuracy: 0.8424\n",
            "Epoch 2/7\n",
            "359/359 [==============================] - 122s 340ms/step - loss: 0.3955 - binary_accuracy: 0.8281 - val_loss: 0.3639 - val_binary_accuracy: 0.8453\n",
            "Epoch 3/7\n",
            "359/359 [==============================] - 121s 336ms/step - loss: 0.3940 - binary_accuracy: 0.8239 - val_loss: 0.3633 - val_binary_accuracy: 0.8481\n",
            "Epoch 4/7\n",
            "359/359 [==============================] - 121s 338ms/step - loss: 0.3905 - binary_accuracy: 0.8271 - val_loss: 0.3603 - val_binary_accuracy: 0.8453\n",
            "Epoch 5/7\n",
            "359/359 [==============================] - 121s 336ms/step - loss: 0.3890 - binary_accuracy: 0.8296 - val_loss: 0.3576 - val_binary_accuracy: 0.8477\n",
            "Epoch 6/7\n",
            "359/359 [==============================] - 121s 337ms/step - loss: 0.3873 - binary_accuracy: 0.8305 - val_loss: 0.3571 - val_binary_accuracy: 0.8487\n",
            "Epoch 7/7\n",
            "359/359 [==============================] - 121s 337ms/step - loss: 0.3840 - binary_accuracy: 0.8311 - val_loss: 0.3555 - val_binary_accuracy: 0.8501\n"
          ]
        },
        {
          "data": {
            "text/plain": [
              "<keras.callbacks.History at 0x7fe668a29e90>"
            ]
          },
          "execution_count": 44,
          "metadata": {},
          "output_type": "execute_result"
        }
      ],
      "source": [
        "model.fit(x,y, epochs=7, batch_size=32, validation_split=0.3)"
      ]
    },
    {
      "attachments": {},
      "cell_type": "markdown",
      "metadata": {
        "id": "ge5_rg9kWevV"
      },
      "source": [
        "# After Training\n",
        "\n",
        "    Binary Accuracy = 83%\n",
        "    Validation Data Binary Accuracy = 85%"
      ]
    },
    {
      "attachments": {},
      "cell_type": "markdown",
      "metadata": {
        "id": "j6TSzBAYW2sq"
      },
      "source": [
        "# 5. Model Evaluation"
      ]
    },
    {
      "cell_type": "code",
      "execution_count": null,
      "metadata": {
        "execution": {
          "iopub.execute_input": "2022-12-24T08:29:22.183927Z",
          "iopub.status.busy": "2022-12-24T08:29:22.183545Z",
          "iopub.status.idle": "2022-12-24T08:29:52.535845Z",
          "shell.execute_reply": "2022-12-24T08:29:52.535001Z",
          "shell.execute_reply.started": "2022-12-24T08:29:22.183889Z"
        },
        "id": "jCFblqzZQxhZ",
        "outputId": "27ec63c9-18b4-4544-b527-c7c31313118c",
        "trusted": true
      },
      "outputs": [
        {
          "name": "stdout",
          "output_type": "stream",
          "text": [
            "129/129 [==============================] - 30s 235ms/step - loss: 0.3650 - binary_accuracy: 0.8419\n"
          ]
        },
        {
          "data": {
            "text/plain": [
              "[0.36499303579330444, 0.8419126868247986]"
            ]
          },
          "execution_count": 45,
          "metadata": {},
          "output_type": "execute_result"
        }
      ],
      "source": [
        "model.evaluate(x_test, y_test)"
      ]
    },
    {
      "cell_type": "markdown",
      "metadata": {
        "id": "tDzKHzqVW6xu"
      },
      "source": [
        "# Result on Test Data\n",
        "    loss = 0.36\n",
        "    binary accuract = 85%"
      ]
    },
    {
      "cell_type": "code",
      "execution_count": null,
      "metadata": {
        "execution": {
          "iopub.execute_input": "2022-12-24T08:29:52.538940Z",
          "iopub.status.busy": "2022-12-24T08:29:52.537952Z",
          "iopub.status.idle": "2022-12-24T08:30:22.663412Z",
          "shell.execute_reply": "2022-12-24T08:30:22.662412Z",
          "shell.execute_reply.started": "2022-12-24T08:29:52.538901Z"
        },
        "id": "VpJwIq4KQxhZ",
        "trusted": true
      },
      "outputs": [],
      "source": [
        "y_pred = model.predict(x_test)"
      ]
    },
    {
      "cell_type": "code",
      "execution_count": null,
      "metadata": {
        "execution": {
          "iopub.execute_input": "2022-12-24T08:30:22.666361Z",
          "iopub.status.busy": "2022-12-24T08:30:22.666004Z",
          "iopub.status.idle": "2022-12-24T08:30:22.675367Z",
          "shell.execute_reply": "2022-12-24T08:30:22.673190Z",
          "shell.execute_reply.started": "2022-12-24T08:30:22.666325Z"
        },
        "id": "8u1qjCEBQxhZ",
        "outputId": "d71573e3-9256-45f1-bfe1-36c5882eb9e9",
        "trusted": true
      },
      "outputs": [
        {
          "data": {
            "text/plain": [
              "array([[0.97909945],\n",
              "       [0.96171707],\n",
              "       [0.9316894 ],\n",
              "       ...,\n",
              "       [0.6999455 ],\n",
              "       [0.86254984],\n",
              "       [0.4881216 ]], dtype=float32)"
            ]
          },
          "execution_count": 47,
          "metadata": {},
          "output_type": "execute_result"
        }
      ],
      "source": [
        "y_pred"
      ]
    },
    {
      "cell_type": "code",
      "execution_count": null,
      "metadata": {
        "execution": {
          "iopub.execute_input": "2022-12-24T08:30:22.677448Z",
          "iopub.status.busy": "2022-12-24T08:30:22.677027Z",
          "iopub.status.idle": "2022-12-24T08:30:22.684891Z",
          "shell.execute_reply": "2022-12-24T08:30:22.684001Z",
          "shell.execute_reply.started": "2022-12-24T08:30:22.677393Z"
        },
        "id": "0uUyi9SvQxha",
        "trusted": true
      },
      "outputs": [],
      "source": [
        "y_pred = y_pred.flatten()\n",
        "y_pred = np.where(y_pred>0.5, 1, 0)"
      ]
    },
    {
      "cell_type": "code",
      "execution_count": null,
      "metadata": {
        "execution": {
          "iopub.execute_input": "2022-12-24T08:30:22.686930Z",
          "iopub.status.busy": "2022-12-24T08:30:22.686338Z",
          "iopub.status.idle": "2022-12-24T08:30:22.693993Z",
          "shell.execute_reply": "2022-12-24T08:30:22.693000Z",
          "shell.execute_reply.started": "2022-12-24T08:30:22.686885Z"
        },
        "id": "WX8dhsSFQxha",
        "outputId": "5a3bcdf2-ca2e-4ed4-80d6-98365adc6e61",
        "trusted": true
      },
      "outputs": [
        {
          "data": {
            "text/plain": [
              "array([1, 1, 1, ..., 1, 1, 0])"
            ]
          },
          "execution_count": 49,
          "metadata": {},
          "output_type": "execute_result"
        }
      ],
      "source": [
        "y_pred"
      ]
    },
    {
      "attachments": {},
      "cell_type": "markdown",
      "metadata": {
        "id": "BAE8T9e2XFiI"
      },
      "source": [
        "# 6. F1 Score and Confusion Matrix"
      ]
    },
    {
      "cell_type": "code",
      "execution_count": null,
      "metadata": {
        "execution": {
          "iopub.execute_input": "2022-12-24T08:30:22.696517Z",
          "iopub.status.busy": "2022-12-24T08:30:22.695356Z",
          "iopub.status.idle": "2022-12-24T08:30:22.701287Z",
          "shell.execute_reply": "2022-12-24T08:30:22.700291Z",
          "shell.execute_reply.started": "2022-12-24T08:30:22.696480Z"
        },
        "id": "hVNee4vDQxha",
        "trusted": true
      },
      "outputs": [],
      "source": [
        "from sklearn.metrics import f1_score, confusion_matrix"
      ]
    },
    {
      "cell_type": "code",
      "execution_count": null,
      "metadata": {
        "execution": {
          "iopub.execute_input": "2022-12-24T08:30:22.703409Z",
          "iopub.status.busy": "2022-12-24T08:30:22.702565Z",
          "iopub.status.idle": "2022-12-24T08:30:22.716119Z",
          "shell.execute_reply": "2022-12-24T08:30:22.714863Z",
          "shell.execute_reply.started": "2022-12-24T08:30:22.703370Z"
        },
        "id": "Jz0PMqQrQxha",
        "outputId": "fd618ff5-99c5-4e3d-95ac-fa638ccd9b78",
        "trusted": true
      },
      "outputs": [
        {
          "data": {
            "text/plain": [
              "0.8966836734693878"
            ]
          },
          "execution_count": 51,
          "metadata": {},
          "output_type": "execute_result"
        }
      ],
      "source": [
        "f1_score(y_test, y_pred)"
      ]
    },
    {
      "attachments": {},
      "cell_type": "markdown",
      "metadata": {
        "id": "pD2WRKiZXNVM"
      },
      "source": [
        "### F1 Score = 0.896"
      ]
    },
    {
      "cell_type": "code",
      "execution_count": null,
      "metadata": {
        "execution": {
          "iopub.execute_input": "2022-12-24T08:30:22.718112Z",
          "iopub.status.busy": "2022-12-24T08:30:22.717463Z",
          "iopub.status.idle": "2022-12-24T08:30:22.726939Z",
          "shell.execute_reply": "2022-12-24T08:30:22.725848Z",
          "shell.execute_reply.started": "2022-12-24T08:30:22.718074Z"
        },
        "id": "LggN5nHUQxha",
        "outputId": "3c23fb38-4302-4c65-8729-0583e4e63838",
        "trusted": true
      },
      "outputs": [
        {
          "data": {
            "text/plain": [
              "array([[ 639,  437],\n",
              "       [ 211, 2812]])"
            ]
          },
          "execution_count": 52,
          "metadata": {},
          "output_type": "execute_result"
        }
      ],
      "source": [
        "cm = confusion_matrix(y_test, y_pred)\n",
        "cm"
      ]
    },
    {
      "cell_type": "code",
      "execution_count": null,
      "metadata": {
        "execution": {
          "iopub.execute_input": "2022-12-24T08:30:22.730694Z",
          "iopub.status.busy": "2022-12-24T08:30:22.730384Z",
          "iopub.status.idle": "2022-12-24T08:30:22.736117Z",
          "shell.execute_reply": "2022-12-24T08:30:22.735241Z",
          "shell.execute_reply.started": "2022-12-24T08:30:22.730669Z"
        },
        "id": "HdHqq-_IQxhb",
        "trusted": true
      },
      "outputs": [],
      "source": [
        "from matplotlib import pyplot as plt\n",
        "import seaborn as sn"
      ]
    },
    {
      "cell_type": "code",
      "execution_count": null,
      "metadata": {
        "execution": {
          "iopub.execute_input": "2022-12-24T08:30:22.738112Z",
          "iopub.status.busy": "2022-12-24T08:30:22.737556Z",
          "iopub.status.idle": "2022-12-24T08:30:22.968757Z",
          "shell.execute_reply": "2022-12-24T08:30:22.967880Z",
          "shell.execute_reply.started": "2022-12-24T08:30:22.737864Z"
        },
        "id": "Q0AvuW5-Qxhb",
        "outputId": "3af9977d-aa30-4acd-92b0-82d3cf9c1a16",
        "trusted": true
      },
      "outputs": [
        {
          "data": {
            "text/plain": [
              "Text(33.0, 0.5, 'Actual')"
            ]
          },
          "execution_count": 54,
          "metadata": {},
          "output_type": "execute_result"
        },
        {
          "data": {
            "image/png": "[encoded data removed]",
            "text/plain": [
              "<Figure size 432x288 with 2 Axes>"
            ]
          },
          "metadata": {
            "needs_background": "light"
          },
          "output_type": "display_data"
        }
      ],
      "source": [
        "sn.heatmap(cm, annot=True, fmt='d')\n",
        "plt.xlabel('Predicted')\n",
        "plt.ylabel('Actual')"
      ]
    }
  ],
  "metadata": {
    "colab": {
      "provenance": []
    },
    "kernelspec": {
      "display_name": "Python 3",
      "language": "python",
      "name": "python3"
    },
    "language_info": {
      "codemirror_mode": {
        "name": "ipython",
        "version": 3
      },
      "file_extension": ".py",
      "mimetype": "text/x-python",
      "name": "python",
      "nbconvert_exporter": "python",
      "pygments_lexer": "ipython3",
      "version": "3.7.12"
    }
  },
  "nbformat": 4,
  "nbformat_minor": 0
}
